{
 "cells": [
  {
   "cell_type": "markdown",
   "metadata": {},
   "source": [
    "# Scaling projection"
   ]
  },
  {
   "cell_type": "markdown",
   "metadata": {},
   "source": [
    "First, import the necessary libraries for this sample"
   ]
  },
  {
   "cell_type": "code",
   "execution_count": 1,
   "metadata": {},
   "outputs": [],
   "source": [
    "import numpy as np"
   ]
  },
  {
   "cell_type": "markdown",
   "metadata": {},
   "source": [
    "As defined in this lesson, muliplying the scale matrix by the point vector, as result we have the coordinates $(u, v)$ corresponding to the projected x and y in the plane.\n",
    "\n",
    "\\begin{equation}\n",
    "\\quad\\begin{bmatrix}f&0 &0&0\\\\0&f&0&0\\\\0&0&1&0\\end{bmatrix}\\quad\\begin{bmatrix}x\\\\y\\\\z\\\\1\\end{bmatrix}=\\quad\\begin{bmatrix}fx\\\\fy\\\\z\\end{bmatrix}\\Rightarrow(f\\frac{x}{z},\\frac{y}{z})\n",
    "\\end{equation}"
   ]
  },
  {
   "cell_type": "code",
   "execution_count": 10,
   "metadata": {},
   "outputs": [],
   "source": [
    "def project_point(point, focal_length):\n",
    "    '''Returns the 2D coordinate of the point on the plane'''\n",
    "\n",
    "    # Define the projection matrix\n",
    "    proj_matrix = np.array([[focal_length, 0, 0, 0],\n",
    "                            [0, focal_length, 0, 0],\n",
    "                            [0, 0, 1, 0]])\n",
    "    \n",
    "    point_homogeneous = np.array([[point[0], point[1], point[2], 1]]).T\n",
    "\n",
    "    point_projection = np.dot(proj_matrix, point_homogeneous)\n",
    "\n",
    "    # Convert from homogeneous \n",
    "    u, v = point_projection[0]/point_projection[2], point_projection[1]/point_projection[2]\n",
    "    \n",
    "    return (u[0], v[0])"
   ]
  },
  {
   "cell_type": "markdown",
   "metadata": {},
   "source": [
    "Objects which are at the same distance as the focal lenght, should remain at the same coordinates."
   ]
  },
  {
   "cell_type": "code",
   "execution_count": 5,
   "metadata": {},
   "outputs": [
    {
     "data": {
      "text/plain": [
       "(200.0, 100.0)"
      ]
     },
     "execution_count": 5,
     "metadata": {},
     "output_type": "execute_result"
    }
   ],
   "source": [
    "focal_test = project_point((200, 100, 50), 50)\n",
    "assert(focal_test == (200., 100.))\n",
    "focal_test"
   ]
  },
  {
   "cell_type": "markdown",
   "metadata": {},
   "source": [
    "Objects located at the double of the focal length, should be reduced to the half of the size"
   ]
  },
  {
   "cell_type": "code",
   "execution_count": 6,
   "metadata": {},
   "outputs": [
    {
     "data": {
      "text/plain": [
       "(100.0, 50.0)"
      ]
     },
     "execution_count": 6,
     "metadata": {},
     "output_type": "execute_result"
    }
   ],
   "source": [
    "focal_test = project_point((200, 100, 100), 50)\n",
    "assert(focal_test == (100., 50.))\n",
    "focal_test"
   ]
  },
  {
   "cell_type": "markdown",
   "metadata": {},
   "source": [
    "As located at the half of the focal length, should be scaled up to the double of the size"
   ]
  },
  {
   "cell_type": "code",
   "execution_count": 7,
   "metadata": {},
   "outputs": [
    {
     "data": {
      "text/plain": [
       "(400.0, 200.0)"
      ]
     },
     "execution_count": 7,
     "metadata": {},
     "output_type": "execute_result"
    }
   ],
   "source": [
    "focal_test = project_point((200, 100, 25), 50)\n",
    "assert(focal_test == (400., 200.))\n",
    "focal_test"
   ]
  },
  {
   "cell_type": "code",
   "execution_count": null,
   "metadata": {},
   "outputs": [],
   "source": []
  }
 ],
 "metadata": {
  "kernelspec": {
   "display_name": "Python 3",
   "language": "python",
   "name": "python3"
  },
  "language_info": {
   "codemirror_mode": {
    "name": "ipython",
    "version": 3
   },
   "file_extension": ".py",
   "mimetype": "text/x-python",
   "name": "python",
   "nbconvert_exporter": "python",
   "pygments_lexer": "ipython3",
   "version": "3.7.4"
  }
 },
 "nbformat": 4,
 "nbformat_minor": 4
}
